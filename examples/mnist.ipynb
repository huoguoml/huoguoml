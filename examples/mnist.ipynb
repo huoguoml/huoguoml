{
 "cells": [
  {
   "cell_type": "markdown",
   "metadata": {},
   "source": [
    "# MNIST Classifier with HuoguoML\n",
    "\n",
    "This short notebook shows how to use HuoguoML to deploy and manage a service. This includes:\n",
    "\n",
    "1. Building and training a neural network to classify MNIST images\n",
    "2. Create a HuoguoML service"
   ]
  },
  {
   "cell_type": "markdown",
   "metadata": {},
   "source": [
    "## Requirements\n",
    "\n",
    "We will be using Tensorflow 2 and HuoguoML. Update `pip` and install packages:"
   ]
  },
  {
   "cell_type": "code",
   "execution_count": null,
   "metadata": {
    "id": "nnrWf3PCEzXL"
   },
   "outputs": [],
   "source": [
    "!pip install --upgrade pip\n",
    "!pip install tensorflow\n",
    "!pip install huoguoml"
   ]
  },
  {
   "cell_type": "markdown",
   "metadata": {
    "pycharm": {
     "name": "#%%\n"
    }
   },
   "source": [
    "Import all packages:"
   ]
  },
  {
   "cell_type": "code",
   "execution_count": null,
   "metadata": {
    "id": "0trJmd6DjqBZ"
   },
   "outputs": [],
   "source": [
    "import tensorflow as tf"
   ]
  },
  {
   "cell_type": "markdown",
   "metadata": {},
   "source": [
    "## Building and training a neural network to classify MNIST images\n",
    "\n",
    "### Data\n",
    "\n",
    "First we load and prepare the [MNIST dataset](http://yann.lecun.com/exdb/mnist/). Further, the samples are converted from integers to floating-point numbers:"
   ]
  },
  {
   "cell_type": "code",
   "execution_count": null,
   "metadata": {
    "id": "7FP5258xjs-v"
   },
   "outputs": [],
   "source": [
    "mnist = tf.keras.datasets.mnist\n",
    "\n",
    "(x_train, y_train), (x_test, y_test) = mnist.load_data()\n",
    "x_train, x_test = x_train / 255.0, x_test / 255.0"
   ]
  },
  {
   "cell_type": "markdown",
   "metadata": {
    "id": "BPZ68wASog_I"
   },
   "source": [
    "### Create a neural network\n",
    "A two layer fully connected neural network, that is trained with cross entropy loss and optimized with adam model:"
   ]
  },
  {
   "cell_type": "code",
   "execution_count": null,
   "metadata": {
    "id": "h3IKyzTCDNGo"
   },
   "outputs": [],
   "source": [
    "model = tf.keras.models.Sequential([\n",
    "  tf.keras.layers.Flatten(input_shape=(28, 28)),\n",
    "  tf.keras.layers.Dense(128, activation='relu'),\n",
    "  tf.keras.layers.Dropout(0.2),\n",
    "  tf.keras.layers.Dense(10)\n",
    "])\n",
    "\n",
    "loss_fn = tf.keras.losses.SparseCategoricalCrossentropy(from_logits=True)\n",
    "\n",
    "model.compile(optimizer='adam',\n",
    "              loss=loss_fn,\n",
    "              metrics=['accuracy'])"
   ]
  },
  {
   "cell_type": "markdown",
   "metadata": {
    "id": "ix4mEL65on-w"
   },
   "source": [
    "### Train, evaluate and export neural network"
   ]
  },
  {
   "cell_type": "markdown",
   "metadata": {},
   "source": [
    "Train neural network"
   ]
  },
  {
   "cell_type": "code",
   "execution_count": null,
   "metadata": {
    "id": "y7suUbJXVLqP"
   },
   "outputs": [],
   "source": [
    "model.fit(x_train, y_train, epochs=5)"
   ]
  },
  {
   "cell_type": "markdown",
   "metadata": {
    "id": "4mDAAPFqVVgn"
   },
   "source": [
    "Evaluate neural network -the image classifier should have a accuracy of ~98% on this dataset."
   ]
  },
  {
   "cell_type": "code",
   "execution_count": null,
   "metadata": {
    "id": "F7dTAzgHDUh7"
   },
   "outputs": [],
   "source": [
    "model.evaluate(x_test,  y_test, verbose=2)"
   ]
  },
  {
   "cell_type": "markdown",
   "metadata": {},
   "source": [
    "Export neural network"
   ]
  },
  {
   "cell_type": "code",
   "execution_count": null,
   "metadata": {},
   "outputs": [],
   "source": [
    "model_dir = \"./model\"\n",
    "model.save(model_dir)"
   ]
  },
  {
   "cell_type": "code",
   "execution_count": null,
   "metadata": {},
   "outputs": [],
   "source": [
    "!saved_model_cli show --dir ./model --all"
   ]
  },
  {
   "cell_type": "code",
   "execution_count": null,
   "metadata": {},
   "outputs": [],
   "source": [
    "!pip uninstall huoguoml"
   ]
  },
  {
   "cell_type": "markdown",
   "metadata": {
    "id": "T4JfEh7kvx6m"
   },
   "source": [
    "## Create a HuoguoML service"
   ]
  },
  {
   "cell_type": "code",
   "execution_count": 1,
   "metadata": {
    "scrolled": true
   },
   "outputs": [],
   "source": [
    "import sys\n",
    "sys.path.insert(0,'..')\n",
    "import huoguoml\n",
    "import time\n",
    "import random"
   ]
  },
  {
   "cell_type": "code",
   "execution_count": 2,
   "metadata": {},
   "outputs": [],
   "source": [
    "run = huoguoml.start_experiment_run(\"mnist-15\", \"127.0.0.1:8080\")"
   ]
  },
  {
   "cell_type": "code",
   "execution_count": null,
   "metadata": {},
   "outputs": [],
   "source": [
    "run.log_parameter(\"batch_size\", random.randint(0, 100))\n"
   ]
  },
  {
   "cell_type": "code",
   "execution_count": null,
   "metadata": {},
   "outputs": [],
   "source": [
    "run.run"
   ]
  },
  {
   "cell_type": "code",
   "execution_count": null,
   "metadata": {},
   "outputs": [],
   "source": [
    "run.log_metric(\"batch_size\", random.randint(0, 100))\n",
    "run.log_tag(\"framework\", \"tensorflow\")\n",
    "run.log_tag(\"git\", \"5123131241ed\")"
   ]
  },
  {
   "cell_type": "code",
   "execution_count": null,
   "metadata": {},
   "outputs": [],
   "source": [
    "run.run"
   ]
  },
  {
   "cell_type": "code",
   "execution_count": null,
   "metadata": {},
   "outputs": [],
   "source": [
    "run.log_model(\"tensorflow\", tf_saved_model_dir=\"./model\",\n",
    "                            tf_meta_graph_tags=\"serve\",\n",
    "                            tf_signature_def_key=\"serving_default\")"
   ]
  },
  {
   "cell_type": "code",
   "execution_count": null,
   "metadata": {},
   "outputs": [],
   "source": [
    "run.end_experiment_run(failed=False)"
   ]
  },
  {
   "cell_type": "code",
   "execution_count": null,
   "metadata": {},
   "outputs": [],
   "source": [
    "run.run"
   ]
  },
  {
   "cell_type": "code",
   "execution_count": null,
   "metadata": {},
   "outputs": [],
   "source": [
    "with huoguoml.start_experiment_run(\"mnist-5\", \"http://127.0.0.1:8080\") as run:\n",
    "    run.log_parameter(\"batch_size\", random.randint(0, 100))\n",
    "    run.log_parameter(\"alpha\", random.randint(0, 100))\n",
    "    run.log_parameter(\"beta\", random.randint(0, 100))\n",
    "    run.log_parameter(\"gamma\", random.randint(0, 100))\n",
    "    run.log_parameter(\"delta\", random.randint(0, 100))\n",
    "    run.log_metric(\"accuracy\", random.randint(0, 100))\n",
    "    run.log_metric(\"precision\", random.randint(0, 100))\n",
    "    run.log_metric(\"recall\", random.randint(0, 100))\n",
    "    run.log_metric(\"f1\", random.randint(0, 100))\n",
    "    run.log_tag(\"framework\", \"tensorflow\")\n",
    "    run.log_tag(\"git\", \"5123131241ed\")"
   ]
  },
  {
   "cell_type": "code",
   "execution_count": null,
   "metadata": {
    "scrolled": true
   },
   "outputs": [],
   "source": [
    "with huoguoml.start_experiment_run(\"mnist-15\", \"http://127.0.0.1:8080\") as run:\n",
    "    run.log_parameter(\"batch_size\", random.randint(0, 100))\n",
    "    run.log_parameter(\"alpha\", random.randint(0, 100))\n",
    "    run.log_parameter(\"beta\", random.randint(0, 100))\n",
    "    run.log_parameter(\"gamma\", random.randint(0, 100))\n",
    "    run.log_parameter(\"delta\", random.randint(0, 100))\n",
    "    run.log_metric(\"accuracy\", random.randint(0, 100))\n",
    "    run.log_metric(\"precision\", random.randint(0, 100))\n",
    "    run.log_metric(\"recall\", random.randint(0, 100))\n",
    "    run.log_metric(\"f1\", random.randint(0, 100))\n",
    "    run.log_tag(\"framework\", \"tensorflow\")\n",
    "    run.log_tag(\"git\", \"5123131241ed\")\n"
   ]
  },
  {
   "cell_type": "code",
   "execution_count": null,
   "metadata": {
    "scrolled": true
   },
   "outputs": [],
   "source": [
    "for i in range(10):\n",
    "    with huoguoml.start_experiment_run(\"mnist-15\", \"http://127.0.0.1:8080\") as run:\n",
    "        run.log_parameter(\"batch_size\", random.randint(0, 100))\n",
    "        run.log_parameter(\"alpha\", random.randint(0, 100))\n",
    "        run.log_parameter(\"beta\", random.randint(0, 100))\n",
    "        run.log_parameter(\"gamma\", random.randint(0, 100))\n",
    "        run.log_parameter(\"delta\", random.randint(0, 100))\n",
    "        run.log_metric(\"accuracy\", random.randint(0, 100))\n",
    "        run.log_metric(\"precision\", random.randint(0, 100))\n",
    "        run.log_metric(\"recall\", random.randint(0, 100))\n",
    "        run.log_metric(\"f1\", random.randint(0, 100))\n",
    "        run.log_tag(\"framework\", \"tensorflow\")\n",
    "        run.log_tag(\"git\", \"5123131241ed\")\n",
    "        run.log_model(\"tensorflow\", tf_saved_model_dir=\"./model\",\n",
    "                                  tf_meta_graph_tags=\"serve\",\n",
    "                                  tf_signature_def_key=\"serving_default\")\n",
    "        time.sleep(random.randint(0, 5))"
   ]
  },
  {
   "cell_type": "code",
   "execution_count": null,
   "metadata": {},
   "outputs": [],
   "source": [
    "for i in range(3):\n",
    "    with huoguoml.start_experiment_run(\"mnist-3\", artifact_dir=\"../huoguoml\") as run:\n",
    "        run.log_parameter(\"batch_size\", random.randint(0, 100))\n",
    "        run.log_parameter(\"alpha\", random.randint(0, 100))\n",
    "        run.log_parameter(\"beta\", random.randint(0, 100))\n",
    "        run.log_parameter(\"gamma\", random.randint(0, 100))\n",
    "        run.log_parameter(\"delta\", random.randint(0, 100))\n",
    "        run.log_metric(\"accuracy\", random.randint(0, 100))\n",
    "        run.log_metric(\"precision\", random.randint(0, 100))\n",
    "        run.log_metric(\"recall\", random.randint(0, 100))\n",
    "        run.log_metric(\"f1\", random.randint(0, 100))\n",
    "        run.log_tag(\"framework\", \"tensorflow\")\n",
    "        run.log_tag(\"git\", \"5123131241ed\")\n",
    "        run.log_model(\"tensorflow\", tf_saved_model_dir=\"../model\",\n",
    "                                  tf_meta_graph_tags=\"serve\",\n",
    "                                  tf_signature_def_key=\"serving_default\")\n",
    "        time.sleep(random.randint(0, 5))"
   ]
  },
  {
   "cell_type": "code",
   "execution_count": null,
   "metadata": {},
   "outputs": [],
   "source": [
    "for i in range(8):\n",
    "    with huoguoml.start_experiment_run(\"mnist-8\", artifact_dir=\"../huoguoml\") as run:\n",
    "        run.log_parameter(\"batch_size\", random.randint(0, 100))\n",
    "        run.log_parameter(\"alpha\", random.randint(0, 100))\n",
    "        run.log_parameter(\"beta\", random.randint(0, 100))\n",
    "        run.log_parameter(\"gamma\", random.randint(0, 100))\n",
    "        run.log_parameter(\"delta\", random.randint(0, 100))\n",
    "        run.log_metric(\"accuracy\", random.randint(0, 100))\n",
    "        run.log_metric(\"precision\", random.randint(0, 100))\n",
    "        run.log_metric(\"recall\", random.randint(0, 100))\n",
    "        run.log_metric(\"f1\", random.randint(0, 100))\n",
    "        run.log_tag(\"framework\", \"tensorflow\")\n",
    "        run.log_tag(\"git\", \"5123131241ed\")\n",
    "        run.log_model(\"tensorflow\", tf_saved_model_dir=\"../model\",\n",
    "                                  tf_meta_graph_tags=\"serve\",\n",
    "                                  tf_signature_def_key=\"serving_default\")\n",
    "        time.sleep(random.randint(0, 5))"
   ]
  }
 ],
 "metadata": {
  "colab": {
   "collapsed_sections": [
    "rX8mhOLljYeM"
   ],
   "name": "beginner.ipynb",
   "toc_visible": true
  },
  "kernelspec": {
   "display_name": "Python 3",
   "language": "python",
   "name": "python3"
  },
  "language_info": {
   "codemirror_mode": {
    "name": "ipython",
    "version": 3
   },
   "file_extension": ".py",
   "mimetype": "text/x-python",
   "name": "python",
   "nbconvert_exporter": "python",
   "pygments_lexer": "ipython3",
   "version": "3.7.1"
  }
 },
 "nbformat": 4,
 "nbformat_minor": 1
}
